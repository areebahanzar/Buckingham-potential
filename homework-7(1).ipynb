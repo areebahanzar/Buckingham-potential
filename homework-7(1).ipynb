{
 "cells": [
  {
   "cell_type": "markdown",
   "metadata": {},
   "source": [
    "## Optimization for physics\n",
    "\n",
    "Areebah Anzar   "
   ]
  },
  {
   "cell_type": "markdown",
   "metadata": {},
   "source": [
    "## Discussion\n",
    "\n",
    "The [Buckingham potential](https://en.wikipedia.org/wiki/Buckingham_potential), \n",
    "\n",
    "$$V(r) = V_0 \\left[\\left(\\frac{\\sigma}{r}\\right)^6-e^{-r/\\sigma}\\right]\\,,$$\n",
    "\n",
    "is an approximate function for the potential energy between atoms at a distance $r$ from one another. This potential contains short-ranged repulsive and longer-ranged attractive terms. The net result is that the potential energy is minimized at an intermediate distance, for which there is no analytical expression. The goal of this homework assignment will be to numerically compute the minimum."
   ]
  },
  {
   "cell_type": "markdown",
   "metadata": {},
   "source": [
    "## 1. Visualize the potential\n",
    "\n",
    "First, let's see what the Buckingham potential looks like. For simplicity, we'll choose parameters $V_0=1$ and $\\sigma=1$. \n",
    "\n",
    "### 1.a. Define the function\n",
    "\n",
    "Fill in the code below to define a function, `buckingham`, that outputs the value of the potential as a function of the distance $r$."
   ]
  },
  {
   "cell_type": "code",
   "execution_count": 1,
   "metadata": {},
   "outputs": [],
   "source": [
    "import numpy as np\n",
    "\n",
    "\n",
    "# Write the function to evaluate the Buckingham potential\n",
    "\n",
    "def buckingham(r):\n",
    "    \"\"\" \n",
    "    Returns the value of the Buckingham potential at distance r.\n",
    "    Parameters V_0 and sigma are set to 1.\n",
    "    \"\"\"\n",
    "    \n",
    "    # Set V_0 and sigma\n",
    "    \n",
    "    V_0   = 1\n",
    "    sigma = 1\n",
    "    x = -r/sigma\n",
    "    # Evaluate the potential and return\n",
    "    \n",
    "    potential = V_0 * ( ((sigma/r)**6) - np.exp(x) ) \n",
    "    \n",
    " \n",
    "    return potential  "
   ]
  },
  {
   "cell_type": "markdown",
   "metadata": {},
   "source": [
    "### 1.b. Plot the potential curve\n",
    "\n",
    "Code below to plot the value of the potential over the range $[0.5, 4]$. We'll set the limits of the $y$ axis by hand so that the plot is not dominated by large values of the potential for small $r$"
   ]
  },
  {
   "cell_type": "code",
   "execution_count": 11,
   "metadata": {},
   "outputs": [
    {
     "data": {
      "image/png": "[encoded data removed]",
      "text/plain": [
       "<Figure size 432x288 with 1 Axes>"
      ]
     },
     "metadata": {},
     "output_type": "display_data"
    }
   ],
   "source": [
    "%matplotlib inline\n",
    "import matplotlib.pyplot as plt\n",
    "import seaborn as sns\n",
    "\n",
    "r_values =  np.arange(0.5,4,0.001)\n",
    "V_values =  buckingham(r_values)\n",
    "\n",
    "sns.lineplot(r_values, V_values)\n",
    "plt.title(r'Buckingham potential')\n",
    "plt.ylim([-0.5, 0.5])\n",
    "plt.xlabel(r'$r$')\n",
    "plt.ylabel(r'$V$'); "
   ]
  },
  {
   "cell_type": "markdown",
   "metadata": {},
   "source": [
    "## 2. Set up the optimization algorithm\n",
    "\n",
    "We'll use simple steepest descent to find the minimum of the Buckingham potential. The steps of the algorithm are:\n",
    "\n",
    "1. Compute the direction of steepest descent $\\underline{s}$, given by the derivative $\\underline{s} = -\\nabla f(\\underline{x}_k)$\n",
    "2. Choose a distance $t$ to step along this direction\n",
    "3. Update the parameters $\\underline{x}_{k+1} = \\underline{x}_k + t \\underline{s}$\n",
    "\n",
    "### 2.a. Define the derivative function\n",
    "\n",
    "Code below to define a function `df` that returns the derivative of the Buckingham potential function at distance $r$. You'll need to first compute the derivative by hand, then code it in the function."
   ]
  },
  {
   "cell_type": "code",
   "execution_count": 2,
   "metadata": {},
   "outputs": [],
   "source": [
    "# Define the derivative of the Buckingham potential as a function of r\n",
    "\n",
    "def df(r):\n",
    "\n",
    "    \n",
    "    # Set V_0 and sigma\n",
    "    \n",
    "    V_0   = 1\n",
    "    sigma = 1\n",
    "    \n",
    "    # Compute the derivative and return\n",
    "    \n",
    "    derivative = (-V_0 * sigma**6 * 6) / r**7  +  (V_0 * np.exp(-r/sigma)) / sigma\n",
    "    \n",
    "    return  derivative"
   ]
  },
  {
   "cell_type": "markdown",
   "metadata": {},
   "source": [
    "### 2.b. Code the steepest descent algorithm\n",
    "\n",
    "Code below to define a function `steepest_descent` that uses the steepest descent algorithm to find the minimum of a function. The input to the function is the derivative function, `df`, and the starting value, `x0`. This problem is simple enough that we can choose a constant step size $t = 0.1$ and obtain fairly good results. "
   ]
  },
  {
   "cell_type": "code",
   "execution_count": 4,
   "metadata": {},
   "outputs": [],
   "source": [
    "def steepest_descent(df, x0):\n",
    "    \n",
    "    # Initialize the system\n",
    "    \n",
    "    epsilon  = 0.0001  # Stopping condition -- end when |df/dx| < epsilon \n",
    "    max_iter = 100     # Maximum number of iterations\n",
    "    it       = 0       # Current iteration\n",
    "    \n",
    "    x    = x0     # Current parameter value\n",
    "    dfdx =  df(x0) #Initial value of the derivative\n",
    "    \n",
    "    # Report status\n",
    "    print('iter\\tx\\tdf/dx')\n",
    "    \n",
    "    \n",
    "    # Execute the steepest descent algorithm\n",
    "    \n",
    "    while np.fabs(dfdx)>=epsilon and it<max_iter:\n",
    "    \n",
    "        # Report status\n",
    "        print('%d\\t%.4f\\t%.4f' % (it, x, dfdx))\n",
    "\n",
    "        # Choose the step direction\n",
    "        s =  -df(x)\n",
    "\n",
    "        # Choose how far to step in that direction\n",
    "        t  = 0.1\n",
    "\n",
    "        # Update the parameters\n",
    "        x =  x+t*s\n",
    "\n",
    "        # Update the derivative\n",
    "        dfdx =  df(x)\n",
    "\n",
    "        # Update the iteration counter\n",
    "        it += 1\n",
    "        \n",
    "\n",
    "    # Return the result\n",
    "        \n",
    "    return x"
   ]
  },
  {
   "cell_type": "markdown",
   "metadata": {},
   "source": [
    "## 3. Find the minimum\n",
    "\n",
    "Now that we've defined the steepest descent algorithm, the next step is to run it and find the minimum of the Buckingham potential.\n",
    "\n",
    "### 3.a. Run the steepest descent algorithm\n",
    "\n",
    "Fill in the code to run the steepest descent algorithm. We'll start at an initial value of $r = 1$."
   ]
  },
  {
   "cell_type": "code",
   "execution_count": 5,
   "metadata": {},
   "outputs": [
    {
     "name": "stdout",
     "output_type": "stream",
     "text": [
      "iter\tx\tdf/dx\n",
      "0\t1.0000\t-5.6321\n",
      "1\t1.5632\t-0.0536\n",
      "2\t1.5686\t-0.0485\n",
      "3\t1.5734\t-0.0440\n",
      "4\t1.5778\t-0.0400\n",
      "5\t1.5818\t-0.0365\n",
      "6\t1.5855\t-0.0334\n",
      "7\t1.5888\t-0.0306\n",
      "8\t1.5919\t-0.0281\n",
      "9\t1.5947\t-0.0258\n",
      "10\t1.5973\t-0.0238\n",
      "11\t1.5996\t-0.0219\n",
      "12\t1.6018\t-0.0202\n",
      "13\t1.6039\t-0.0187\n",
      "14\t1.6057\t-0.0173\n",
      "15\t1.6074\t-0.0160\n",
      "16\t1.6090\t-0.0148\n",
      "17\t1.6105\t-0.0137\n",
      "18\t1.6119\t-0.0127\n",
      "19\t1.6132\t-0.0118\n",
      "20\t1.6143\t-0.0110\n",
      "21\t1.6154\t-0.0102\n",
      "22\t1.6165\t-0.0095\n",
      "23\t1.6174\t-0.0088\n",
      "24\t1.6183\t-0.0082\n",
      "25\t1.6191\t-0.0076\n",
      "26\t1.6199\t-0.0071\n",
      "27\t1.6206\t-0.0066\n",
      "28\t1.6212\t-0.0062\n",
      "29\t1.6219\t-0.0057\n",
      "30\t1.6224\t-0.0053\n",
      "31\t1.6230\t-0.0050\n",
      "32\t1.6235\t-0.0047\n",
      "33\t1.6239\t-0.0043\n",
      "34\t1.6244\t-0.0040\n",
      "35\t1.6248\t-0.0038\n",
      "36\t1.6251\t-0.0035\n",
      "37\t1.6255\t-0.0033\n",
      "38\t1.6258\t-0.0031\n",
      "39\t1.6261\t-0.0029\n",
      "40\t1.6264\t-0.0027\n",
      "41\t1.6267\t-0.0025\n",
      "42\t1.6269\t-0.0023\n",
      "43\t1.6272\t-0.0022\n",
      "44\t1.6274\t-0.0020\n",
      "45\t1.6276\t-0.0019\n",
      "46\t1.6278\t-0.0018\n",
      "47\t1.6280\t-0.0017\n",
      "48\t1.6281\t-0.0016\n",
      "49\t1.6283\t-0.0015\n",
      "50\t1.6284\t-0.0014\n",
      "51\t1.6286\t-0.0013\n",
      "52\t1.6287\t-0.0012\n",
      "53\t1.6288\t-0.0011\n",
      "54\t1.6289\t-0.0010\n",
      "55\t1.6290\t-0.0010\n",
      "56\t1.6291\t-0.0009\n",
      "57\t1.6292\t-0.0008\n",
      "58\t1.6293\t-0.0008\n",
      "59\t1.6294\t-0.0007\n",
      "60\t1.6294\t-0.0007\n",
      "61\t1.6295\t-0.0006\n",
      "62\t1.6296\t-0.0006\n",
      "63\t1.6296\t-0.0006\n",
      "64\t1.6297\t-0.0005\n",
      "65\t1.6297\t-0.0005\n",
      "66\t1.6298\t-0.0005\n",
      "67\t1.6298\t-0.0004\n",
      "68\t1.6299\t-0.0004\n",
      "69\t1.6299\t-0.0004\n",
      "70\t1.6300\t-0.0004\n",
      "71\t1.6300\t-0.0003\n",
      "72\t1.6300\t-0.0003\n",
      "73\t1.6301\t-0.0003\n",
      "74\t1.6301\t-0.0003\n",
      "75\t1.6301\t-0.0003\n",
      "76\t1.6301\t-0.0002\n",
      "77\t1.6302\t-0.0002\n",
      "78\t1.6302\t-0.0002\n",
      "79\t1.6302\t-0.0002\n",
      "80\t1.6302\t-0.0002\n",
      "81\t1.6303\t-0.0002\n",
      "82\t1.6303\t-0.0002\n",
      "83\t1.6303\t-0.0001\n",
      "84\t1.6303\t-0.0001\n",
      "85\t1.6303\t-0.0001\n",
      "86\t1.6303\t-0.0001\n",
      "87\t1.6303\t-0.0001\n",
      "88\t1.6304\t-0.0001\n",
      "Found the minimum at r = 1.6304\n",
      "At this point the value of the potential is V(r) = -0.1426\n"
     ]
    }
   ],
   "source": [
    "# Define the starting position\n",
    "\n",
    "x0 =  1\n",
    "\n",
    "\n",
    "# Run steepest descent\n",
    "\n",
    "x_min = steepest_descent(df, x0) # steepest_descent function to find the minimum\n",
    "\n",
    "\n",
    "# Print the results\n",
    "\n",
    "print('Found the minimum at r = %.4f' % x_min)\n",
    "print('At this point the value of the potential is V(r) = %.4f' % buckingham(x_min))"
   ]
  },
  {
   "cell_type": "markdown",
   "metadata": {},
   "source": [
    "### 3.b. Analyze the results\n",
    "\n",
    "Compare your results from from 3.a. to the plot you made in 1.b. Does the result appear to be correct? Are you sure that this is the global minimum of the function?"
   ]
  },
  {
   "cell_type": "markdown",
   "metadata": {},
   "source": [
    "### Answer\n",
    "This does appear to be correct. I am sure this is the glabal minimum of the function because the graph shows 1.5-1.6 to be the lowest point on the x axis with a correspondingly low ponit on the y-axis. "
   ]
  },
  {
   "cell_type": "markdown",
   "metadata": {},
   "source": [
    "### 3.c. Pathological results\n",
    "\n",
    " set `x0 = 0.68`."
   ]
  },
  {
   "cell_type": "code",
   "execution_count": 7,
   "metadata": {},
   "outputs": [
    {
     "name": "stdout",
     "output_type": "stream",
     "text": [
      "iter\tx\tdf/dx\n",
      "0\t0.6800\t-88.7394\n",
      "Found the minimum at r = 9.5539\n",
      "At this point the value of the potential is V(r) = -0.0001\n"
     ]
    }
   ],
   "source": [
    "# Define the starting position\n",
    "\n",
    "x0 =  0.68\n",
    "\n",
    "\n",
    "# Run steepest descent\n",
    "\n",
    "x_min = steepest_descent(df, x0) # steepest_descent function to find the minimum\n",
    "\n",
    "\n",
    "# Print the results\n",
    "\n",
    "print('Found the minimum at r = %.4f' % x_min)\n",
    "print('At this point the value of the potential is V(r) = %.4f' % buckingham(x_min))"
   ]
  },
  {
   "cell_type": "markdown",
   "metadata": {},
   "source": [
    "### 3.d. Explain what went wrong\n",
    "\n",
    "The value of the \"minimum\" that you find in 3.c. above should be much larger than the value that you got in 3.a. You can also verify that the value of the function at that distance is higher than in 3.a.\n",
    "\n",
    "Explain why we find the wrong result in this case. What changes could you make to our optimization algorithm to prevent this from happening? Remember that there is no one correct answer here -- there are many possible strategies that we could take to avoid these errors. How would you approach a problem like this if you encountered it in your research?"
   ]
  },
  {
   "cell_type": "markdown",
   "metadata": {},
   "source": [
    "We would need to define a better step size scale so that it can accurately find the minimum. "
   ]
  },
  {
   "cell_type": "code",
   "execution_count": null,
   "metadata": {},
   "outputs": [],
   "source": []
  },
  {
   "cell_type": "code",
   "execution_count": null,
   "metadata": {},
   "outputs": [],
   "source": []
  }
 ],
 "metadata": {
  "kernelspec": {
   "display_name": "Python 3",
   "language": "python",
   "name": "python3"
  },
  "language_info": {
   "codemirror_mode": {
    "name": "ipython",
    "version": 3
   },
   "file_extension": ".py",
   "mimetype": "text/x-python",
   "name": "python",
   "nbconvert_exporter": "python",
   "pygments_lexer": "ipython3",
   "version": "3.6.8"
  }
 },
 "nbformat": 4,
 "nbformat_minor": 2
}
